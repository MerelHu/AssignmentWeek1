{
 "cells": [
  {
   "cell_type": "markdown",
   "metadata": {},
   "source": [
    "# Assignment week 1"
   ]
  },
  {
   "cell_type": "markdown",
   "metadata": {},
   "source": [
    "In this assignment, the data of activity trackers is explored in combination with the information of the participants. "
   ]
  },
  {
   "cell_type": "code",
   "execution_count": 43,
   "metadata": {},
   "outputs": [
    {
     "data": {
      "text/html": [
       "<div>\n",
       "<style scoped>\n",
       "    .dataframe tbody tr th:only-of-type {\n",
       "        vertical-align: middle;\n",
       "    }\n",
       "\n",
       "    .dataframe tbody tr th {\n",
       "        vertical-align: top;\n",
       "    }\n",
       "\n",
       "    .dataframe thead th {\n",
       "        text-align: right;\n",
       "    }\n",
       "</style>\n",
       "<table border=\"1\" class=\"dataframe\">\n",
       "  <thead>\n",
       "    <tr style=\"text-align: right;\">\n",
       "      <th></th>\n",
       "      <th>id</th>\n",
       "      <th>20-6-2013</th>\n",
       "      <th>21-6-2013</th>\n",
       "      <th>22-6-2013</th>\n",
       "      <th>23-6-2013</th>\n",
       "      <th>24-6-2013</th>\n",
       "      <th>25-6-2013</th>\n",
       "      <th>26-6-2013</th>\n",
       "      <th>27-6-2013</th>\n",
       "      <th>28-6-2013</th>\n",
       "      <th>...</th>\n",
       "      <th>4-5-2014</th>\n",
       "      <th>5-5-2014</th>\n",
       "      <th>6-5-2014</th>\n",
       "      <th>7-5-2014</th>\n",
       "      <th>8-5-2014</th>\n",
       "      <th>9-5-2014</th>\n",
       "      <th>10-5-2014</th>\n",
       "      <th>11-5-2014</th>\n",
       "      <th>12-5-2014</th>\n",
       "      <th>13-5-2014</th>\n",
       "    </tr>\n",
       "  </thead>\n",
       "  <tbody>\n",
       "    <tr>\n",
       "      <th>0</th>\n",
       "      <td>1</td>\n",
       "      <td>NaN</td>\n",
       "      <td>NaN</td>\n",
       "      <td>NaN</td>\n",
       "      <td>NaN</td>\n",
       "      <td>3941.0</td>\n",
       "      <td>15733.0</td>\n",
       "      <td>9929.0</td>\n",
       "      <td>12879.0</td>\n",
       "      <td>10541.0</td>\n",
       "      <td>...</td>\n",
       "      <td>NaN</td>\n",
       "      <td>NaN</td>\n",
       "      <td>NaN</td>\n",
       "      <td>NaN</td>\n",
       "      <td>NaN</td>\n",
       "      <td>NaN</td>\n",
       "      <td>NaN</td>\n",
       "      <td>NaN</td>\n",
       "      <td>NaN</td>\n",
       "      <td>NaN</td>\n",
       "    </tr>\n",
       "    <tr>\n",
       "      <th>1</th>\n",
       "      <td>2</td>\n",
       "      <td>NaN</td>\n",
       "      <td>NaN</td>\n",
       "      <td>10473.0</td>\n",
       "      <td>705.0</td>\n",
       "      <td>4287.0</td>\n",
       "      <td>5507.0</td>\n",
       "      <td>4024.0</td>\n",
       "      <td>3926.0</td>\n",
       "      <td>14595.0</td>\n",
       "      <td>...</td>\n",
       "      <td>NaN</td>\n",
       "      <td>NaN</td>\n",
       "      <td>NaN</td>\n",
       "      <td>NaN</td>\n",
       "      <td>NaN</td>\n",
       "      <td>NaN</td>\n",
       "      <td>NaN</td>\n",
       "      <td>NaN</td>\n",
       "      <td>NaN</td>\n",
       "      <td>NaN</td>\n",
       "    </tr>\n",
       "    <tr>\n",
       "      <th>2</th>\n",
       "      <td>3</td>\n",
       "      <td>NaN</td>\n",
       "      <td>11428.0</td>\n",
       "      <td>12523.0</td>\n",
       "      <td>2553.0</td>\n",
       "      <td>190.0</td>\n",
       "      <td>2164.0</td>\n",
       "      <td>8185.0</td>\n",
       "      <td>9630.0</td>\n",
       "      <td>8983.0</td>\n",
       "      <td>...</td>\n",
       "      <td>3914.0</td>\n",
       "      <td>4364.0</td>\n",
       "      <td>NaN</td>\n",
       "      <td>NaN</td>\n",
       "      <td>NaN</td>\n",
       "      <td>6227.0</td>\n",
       "      <td>4567.0</td>\n",
       "      <td>2567.0</td>\n",
       "      <td>1129.0</td>\n",
       "      <td>NaN</td>\n",
       "    </tr>\n",
       "    <tr>\n",
       "      <th>3</th>\n",
       "      <td>4</td>\n",
       "      <td>NaN</td>\n",
       "      <td>NaN</td>\n",
       "      <td>NaN</td>\n",
       "      <td>NaN</td>\n",
       "      <td>NaN</td>\n",
       "      <td>NaN</td>\n",
       "      <td>NaN</td>\n",
       "      <td>NaN</td>\n",
       "      <td>NaN</td>\n",
       "      <td>...</td>\n",
       "      <td>NaN</td>\n",
       "      <td>NaN</td>\n",
       "      <td>NaN</td>\n",
       "      <td>NaN</td>\n",
       "      <td>NaN</td>\n",
       "      <td>NaN</td>\n",
       "      <td>NaN</td>\n",
       "      <td>NaN</td>\n",
       "      <td>NaN</td>\n",
       "      <td>NaN</td>\n",
       "    </tr>\n",
       "    <tr>\n",
       "      <th>4</th>\n",
       "      <td>5</td>\n",
       "      <td>NaN</td>\n",
       "      <td>NaN</td>\n",
       "      <td>NaN</td>\n",
       "      <td>NaN</td>\n",
       "      <td>NaN</td>\n",
       "      <td>NaN</td>\n",
       "      <td>NaN</td>\n",
       "      <td>NaN</td>\n",
       "      <td>NaN</td>\n",
       "      <td>...</td>\n",
       "      <td>NaN</td>\n",
       "      <td>NaN</td>\n",
       "      <td>NaN</td>\n",
       "      <td>NaN</td>\n",
       "      <td>NaN</td>\n",
       "      <td>NaN</td>\n",
       "      <td>NaN</td>\n",
       "      <td>NaN</td>\n",
       "      <td>NaN</td>\n",
       "      <td>NaN</td>\n",
       "    </tr>\n",
       "  </tbody>\n",
       "</table>\n",
       "<p>5 rows × 329 columns</p>\n",
       "</div>"
      ],
      "text/plain": [
       "   id  20-6-2013  21-6-2013  22-6-2013  23-6-2013  24-6-2013  25-6-2013  \\\n",
       "0   1        NaN        NaN        NaN        NaN     3941.0    15733.0   \n",
       "1   2        NaN        NaN    10473.0      705.0     4287.0     5507.0   \n",
       "2   3        NaN    11428.0    12523.0     2553.0      190.0     2164.0   \n",
       "3   4        NaN        NaN        NaN        NaN        NaN        NaN   \n",
       "4   5        NaN        NaN        NaN        NaN        NaN        NaN   \n",
       "\n",
       "   26-6-2013  27-6-2013  28-6-2013  ...  4-5-2014  5-5-2014  6-5-2014  \\\n",
       "0     9929.0    12879.0    10541.0  ...       NaN       NaN       NaN   \n",
       "1     4024.0     3926.0    14595.0  ...       NaN       NaN       NaN   \n",
       "2     8185.0     9630.0     8983.0  ...    3914.0    4364.0       NaN   \n",
       "3        NaN        NaN        NaN  ...       NaN       NaN       NaN   \n",
       "4        NaN        NaN        NaN  ...       NaN       NaN       NaN   \n",
       "\n",
       "   7-5-2014  8-5-2014  9-5-2014  10-5-2014  11-5-2014  12-5-2014  13-5-2014  \n",
       "0       NaN       NaN       NaN        NaN        NaN        NaN        NaN  \n",
       "1       NaN       NaN       NaN        NaN        NaN        NaN        NaN  \n",
       "2       NaN       NaN    6227.0     4567.0     2567.0     1129.0        NaN  \n",
       "3       NaN       NaN       NaN        NaN        NaN        NaN        NaN  \n",
       "4       NaN       NaN       NaN        NaN        NaN        NaN        NaN  \n",
       "\n",
       "[5 rows x 329 columns]"
      ]
     },
     "execution_count": 43,
     "metadata": {},
     "output_type": "execute_result"
    }
   ],
   "source": [
    "# Import all the necessary library's\n",
    "import seaborn as sns \n",
    "import pandas as pd \n",
    "import matplotlib.pyplot as plt \n",
    "\n",
    "# Read the csv file of the daily amount of steps in order to display the table\n",
    "df = pd.read_csv('steps.csv', sep=\";\")\n",
    "df.head()"
   ]
  },
  {
   "cell_type": "markdown",
   "metadata": {},
   "source": [
    "First, in order to calculate the 'mean steps per day over all participants', we have to reverse the row and the columns. In addition, we have to create two seperate colums (date and mean) in order to create a lineplot. "
   ]
  },
  {
   "cell_type": "code",
   "execution_count": 44,
   "metadata": {},
   "outputs": [
    {
     "name": "stdout",
     "output_type": "stream",
     "text": [
      "                0        1        2   3   4        5   6   7       8   9  ...  \\\n",
      "20-6-2013     NaN      NaN      NaN NaN NaN      NaN NaN NaN     NaN NaN  ...   \n",
      "21-6-2013     NaN      NaN  11428.0 NaN NaN  16924.0 NaN NaN     NaN NaN  ...   \n",
      "22-6-2013     NaN  10473.0  12523.0 NaN NaN  14411.0 NaN NaN     NaN NaN  ...   \n",
      "23-6-2013     NaN    705.0   2553.0 NaN NaN   5121.0 NaN NaN     NaN NaN  ...   \n",
      "24-6-2013  3941.0   4287.0    190.0 NaN NaN  29784.0 NaN NaN     NaN NaN  ...   \n",
      "...           ...      ...      ...  ..  ..      ...  ..  ..     ...  ..  ...   \n",
      "9-5-2014      NaN      NaN   6227.0 NaN NaN      NaN NaN NaN  3996.0 NaN  ...   \n",
      "10-5-2014     NaN      NaN   4567.0 NaN NaN      NaN NaN NaN  2556.0 NaN  ...   \n",
      "11-5-2014     NaN      NaN   2567.0 NaN NaN      NaN NaN NaN   302.0 NaN  ...   \n",
      "12-5-2014     NaN      NaN   1129.0 NaN NaN      NaN NaN NaN  2442.0 NaN  ...   \n",
      "13-5-2014     NaN      NaN      NaN NaN NaN      NaN NaN NaN     NaN NaN  ...   \n",
      "\n",
      "           921  922  923      924  925     926      927      928  \\\n",
      "20-6-2013  NaN  NaN  NaN      NaN  NaN     NaN      NaN      NaN   \n",
      "21-6-2013  NaN  NaN  NaN   4571.0  NaN     NaN      NaN   3324.0   \n",
      "22-6-2013  NaN  NaN  NaN  10471.0  NaN     NaN  14411.0   4507.0   \n",
      "23-6-2013  NaN  NaN  NaN   5899.0  NaN  1623.0  14364.0  14364.0   \n",
      "24-6-2013  NaN  NaN  NaN  15295.0  NaN     NaN  26629.0   4098.0   \n",
      "...        ...  ...  ...      ...  ...     ...      ...      ...   \n",
      "9-5-2014   NaN  NaN  NaN      NaN  NaN     NaN      NaN      NaN   \n",
      "10-5-2014  NaN  NaN  NaN      NaN  NaN     NaN      NaN      NaN   \n",
      "11-5-2014  NaN  NaN  NaN      NaN  NaN     NaN      NaN      NaN   \n",
      "12-5-2014  NaN  NaN  NaN      NaN  NaN     NaN      NaN      NaN   \n",
      "13-5-2014  NaN  NaN  NaN      NaN  NaN     NaN      NaN      NaN   \n",
      "\n",
      "                   Mean       Date  \n",
      "20-6-2013   3642.416667 2013-06-20  \n",
      "21-6-2013   9034.724280 2013-06-21  \n",
      "22-6-2013  10889.636691 2013-06-22  \n",
      "23-6-2013   7402.847973 2013-06-23  \n",
      "24-6-2013   8110.370056 2013-06-24  \n",
      "...                 ...        ...  \n",
      "9-5-2014    9570.690141 2014-09-05  \n",
      "10-5-2014   7614.848837 2014-10-05  \n",
      "11-5-2014   6805.925926 2014-11-05  \n",
      "12-5-2014   7505.530303 2014-12-05  \n",
      "13-5-2014           NaN 2014-05-13  \n",
      "\n",
      "[328 rows x 931 columns]\n"
     ]
    }
   ],
   "source": [
    "# Reverse the rows and the columns\n",
    "df_date = df.transpose()\n",
    "\n",
    "# Calculate the mean\n",
    "df_date['Mean'] = df_date.mean(axis=1, skipna=True, numeric_only=True)\n",
    "\n",
    "# Calculate the dates\n",
    "df_date[\"Date\"] = df_date.index\n",
    "df_date = df_date.drop('id')\n",
    "df_date[\"Date\"].unique()\n",
    "df_date[\"Date\"] = pd.to_datetime(df_date[\"Date\"])\n",
    "print(df_date)"
   ]
  },
  {
   "cell_type": "code",
   "execution_count": 45,
   "metadata": {},
   "outputs": [
    {
     "data": {
      "image/png": "[encoded data removed]",
      "text/plain": [
       "<Figure size 432x288 with 1 Axes>"
      ]
     },
     "metadata": {
      "needs_background": "light"
     },
     "output_type": "display_data"
    }
   ],
   "source": [
    "# Create a line plot out of the \"df_date\" dataframe\n",
    "sns.lineplot(data = df_date, x=\"Date\", y=\"Mean\")\n",
    "plt.title('Mean steps per day')\n",
    "plt.xlabel('Mean')\n",
    "plt.show()"
   ]
  },
  {
   "cell_type": "markdown",
   "metadata": {},
   "source": [
    "In the graph above, the mean steps per day over all participants is calculated. There are a few outliers around the 30.000 steps which influence the outcome. However, most of participants have an average between the 5.000 and 10.000 steps. \n",
    "\n",
    "Next, the information about the participants is imported in order to get insight in the quantitative variables weight and height of the participants. "
   ]
  },
  {
   "cell_type": "code",
   "execution_count": 8,
   "metadata": {},
   "outputs": [
    {
     "name": "stdout",
     "output_type": "stream",
     "text": [
      "<class 'pandas.core.frame.DataFrame'>\n",
      "RangeIndex: 929 entries, 0 to 928\n",
      "Data columns (total 9 columns):\n",
      " #   Column       Non-Null Count  Dtype  \n",
      "---  ------       --------------  -----  \n",
      " 0   id           929 non-null    int64  \n",
      " 1   city         929 non-null    object \n",
      " 2   gender       929 non-null    object \n",
      " 3   age          929 non-null    object \n",
      " 4   hh_size      929 non-null    int64  \n",
      " 5   education    929 non-null    int64  \n",
      " 6   education_1  929 non-null    object \n",
      " 7   height       928 non-null    float64\n",
      " 8   weight       927 non-null    float64\n",
      "dtypes: float64(2), int64(3), object(4)\n",
      "memory usage: 65.4+ KB\n"
     ]
    },
    {
     "data": {
      "text/html": [
       "<div>\n",
       "<style scoped>\n",
       "    .dataframe tbody tr th:only-of-type {\n",
       "        vertical-align: middle;\n",
       "    }\n",
       "\n",
       "    .dataframe tbody tr th {\n",
       "        vertical-align: top;\n",
       "    }\n",
       "\n",
       "    .dataframe thead th {\n",
       "        text-align: right;\n",
       "    }\n",
       "</style>\n",
       "<table border=\"1\" class=\"dataframe\">\n",
       "  <thead>\n",
       "    <tr style=\"text-align: right;\">\n",
       "      <th></th>\n",
       "      <th>id</th>\n",
       "      <th>city</th>\n",
       "      <th>gender</th>\n",
       "      <th>age</th>\n",
       "      <th>hh_size</th>\n",
       "      <th>education</th>\n",
       "      <th>education_1</th>\n",
       "      <th>height</th>\n",
       "      <th>weight</th>\n",
       "    </tr>\n",
       "  </thead>\n",
       "  <tbody>\n",
       "    <tr>\n",
       "      <th>0</th>\n",
       "      <td>1</td>\n",
       "      <td>Bordeaux</td>\n",
       "      <td>Male</td>\n",
       "      <td>25-34</td>\n",
       "      <td>4</td>\n",
       "      <td>4</td>\n",
       "      <td>Master or doctorate</td>\n",
       "      <td>178.0</td>\n",
       "      <td>98.0</td>\n",
       "    </tr>\n",
       "    <tr>\n",
       "      <th>1</th>\n",
       "      <td>2</td>\n",
       "      <td>Lille</td>\n",
       "      <td>Male</td>\n",
       "      <td>35-44</td>\n",
       "      <td>1</td>\n",
       "      <td>3</td>\n",
       "      <td>Bachelor</td>\n",
       "      <td>180.0</td>\n",
       "      <td>77.0</td>\n",
       "    </tr>\n",
       "    <tr>\n",
       "      <th>2</th>\n",
       "      <td>3</td>\n",
       "      <td>Montpellier</td>\n",
       "      <td>Male</td>\n",
       "      <td>25-34</td>\n",
       "      <td>2</td>\n",
       "      <td>2</td>\n",
       "      <td>Master or doctorate</td>\n",
       "      <td>180.0</td>\n",
       "      <td>83.0</td>\n",
       "    </tr>\n",
       "    <tr>\n",
       "      <th>3</th>\n",
       "      <td>4</td>\n",
       "      <td>Lyon</td>\n",
       "      <td>Male</td>\n",
       "      <td>&lt;25</td>\n",
       "      <td>1</td>\n",
       "      <td>1</td>\n",
       "      <td>Bachelor</td>\n",
       "      <td>178.0</td>\n",
       "      <td>80.0</td>\n",
       "    </tr>\n",
       "    <tr>\n",
       "      <th>4</th>\n",
       "      <td>5</td>\n",
       "      <td>Montpellier</td>\n",
       "      <td>Female</td>\n",
       "      <td>25-34</td>\n",
       "      <td>3</td>\n",
       "      <td>4</td>\n",
       "      <td>Bachelor</td>\n",
       "      <td>167.0</td>\n",
       "      <td>61.0</td>\n",
       "    </tr>\n",
       "  </tbody>\n",
       "</table>\n",
       "</div>"
      ],
      "text/plain": [
       "   id         city  gender    age  hh_size  education          education_1  \\\n",
       "0   1     Bordeaux    Male  25-34        4          4  Master or doctorate   \n",
       "1   2        Lille    Male  35-44        1          3             Bachelor   \n",
       "2   3  Montpellier    Male  25-34        2          2  Master or doctorate   \n",
       "3   4         Lyon    Male    <25        1          1             Bachelor   \n",
       "4   5  Montpellier  Female  25-34        3          4             Bachelor   \n",
       "\n",
       "   height  weight  \n",
       "0   178.0    98.0  \n",
       "1   180.0    77.0  \n",
       "2   180.0    83.0  \n",
       "3   178.0    80.0  \n",
       "4   167.0    61.0  "
      ]
     },
     "execution_count": 8,
     "metadata": {},
     "output_type": "execute_result"
    }
   ],
   "source": [
    "# Read the csv file of the daily amount of steps in order to display the table\n",
    "df_survey = pd.read_csv('survey.csv')\n",
    "df_survey.info()\n",
    "df_survey.head()"
   ]
  },
  {
   "cell_type": "code",
   "execution_count": null,
   "metadata": {},
   "outputs": [],
   "source": [
    "First, the height of the participants is calculated. "
   ]
  },
  {
   "cell_type": "code",
   "execution_count": 46,
   "metadata": {},
   "outputs": [
    {
     "data": {
      "image/png": "[encoded data removed]",
      "text/plain": [
       "<Figure size 432x288 with 1 Axes>"
      ]
     },
     "metadata": {
      "needs_background": "light"
     },
     "output_type": "display_data"
    },
    {
     "name": "stdout",
     "output_type": "stream",
     "text": [
      "The variance is 82.5\n",
      "The standard deviation is 9.1\n",
      "The mean is 171.7\n",
      "The median is 172.0\n"
     ]
    }
   ],
   "source": [
    "# Calculate the variance and standard deviation\n",
    "variance_size = df_survey['height'].var() \n",
    "standard = df_survey['height'].std()\n",
    "\n",
    "median_size = df_survey['height'].median()\n",
    "mean_size = df_survey['height'].mean()\n",
    "\n",
    "# Plot the graph with a line for median and mean\n",
    "sns.distplot(df_survey['height'], kde=False, rug=True)\n",
    "plt.title('Height of participants')\n",
    "plt.axvline(median_size, 0, 100, color='red', label='median') \n",
    "plt.axvline(mean_size, 0, 100, color='blue', label='mean') \n",
    "plt.legend() \n",
    "plt.show()\n",
    "\n",
    "# Print the variables\n",
    "print(\"The variance is \" + str(round(variance_size,1)))\n",
    "print(\"The standard deviation is \" + str(round(standard,1)))\n",
    "print(\"The mean is \" + str(round(mean_size,1)))\n",
    "print(\"The median is \" + str(round(median_size,1)))"
   ]
  },
  {
   "cell_type": "markdown",
   "metadata": {},
   "source": [
    "The graph is almost symmetrical, however since the mean (171.7) < median (172.0), the graph can be described as left-skewed. The standard deviation is relatively low, which means that the values are close to each other. The graphs below (violin plot and box plot) also show that the scatter is little. "
   ]
  },
  {
   "cell_type": "code",
   "execution_count": 39,
   "metadata": {},
   "outputs": [
    {
     "data": {
      "image/png": "[encoded data removed]",
      "text/plain": [
       "<Figure size 432x288 with 1 Axes>"
      ]
     },
     "metadata": {
      "needs_background": "light"
     },
     "output_type": "display_data"
    }
   ],
   "source": [
    "# Creates a violin plot\n",
    "sns.violinplot(df_survey['height'])\n",
    "sns.swarmplot(df_survey['height'], color='purple') #default color doesn't stand out\n",
    "plt.title('Height of participants')\n",
    "plt.ylabel('Amount')\n",
    "plt.xlabel('Height')\n",
    "plt.show()"
   ]
  },
  {
   "cell_type": "code",
   "execution_count": 10,
   "metadata": {},
   "outputs": [
    {
     "data": {
      "image/png": "[encoded data removed]",
      "text/plain": [
       "<Figure size 432x288 with 1 Axes>"
      ]
     },
     "metadata": {
      "needs_background": "light"
     },
     "output_type": "display_data"
    }
   ],
   "source": [
    "# Creates a box plot\n",
    "sns.boxplot(df_survey['height'])\n",
    "plt.title('Height of the participants')\n",
    "plt.xlabel('Height')\n",
    "plt.show()"
   ]
  },
  {
   "cell_type": "code",
   "execution_count": null,
   "metadata": {},
   "outputs": [],
   "source": [
    "Next, the weight of the participants is calculated. "
   ]
  },
  {
   "cell_type": "code",
   "execution_count": 47,
   "metadata": {},
   "outputs": [
    {
     "data": {
      "image/png": "[encoded data removed]",
      "text/plain": [
       "<Figure size 432x288 with 1 Axes>"
      ]
     },
     "metadata": {
      "needs_background": "light"
     },
     "output_type": "display_data"
    },
    {
     "name": "stdout",
     "output_type": "stream",
     "text": [
      "The variance is 671.0\n",
      "The standard deviation is 25.9\n",
      "The median is 71.0\n",
      "The mean is 72.8\n"
     ]
    }
   ],
   "source": [
    "# Calculate the variance and standard deviation\n",
    "variance_size = df_survey['weight'].var() \n",
    "standard = df_survey['weight'].std()\n",
    "\n",
    "mean_size = df_survey['weight'].mean()\n",
    "median_size = df_survey['weight'].median()\n",
    "\n",
    "\n",
    "# Plot the graph with a line for median and mean\n",
    "sns.distplot(df_survey['weight'], kde=False, rug=True)\n",
    "plt.title('Weight of participants')\n",
    "plt.axvline(median_size, 0, 100, color='red', label='median') \n",
    "plt.axvline(mean_size, 0, 100, color='blue', label='mean') \n",
    "plt.legend() \n",
    "plt.show()\n",
    "\n",
    "# Print the variables\n",
    "print(\"The variance is \" + str(round(variance_size,1)))\n",
    "print(\"The standard deviation is \" + str(round(standard,1)))\n",
    "print(\"The median is \" + str(round(median_size,1)))\n",
    "print(\"The mean is \" + str(round(mean_size,1)))"
   ]
  },
  {
   "cell_type": "code",
   "execution_count": null,
   "metadata": {},
   "outputs": [],
   "source": [
    "In the graph above, the median (71.0) and the mean (72.8) are closely to each other, which means that it is \n",
    "almost symmetrical. However, the median < mean, which means that the graph is right-skewed. It might be possible\n",
    "that the mean is influenced by the extreme values. As a result, some values are removed from the list.  "
   ]
  },
  {
   "cell_type": "code",
   "execution_count": 50,
   "metadata": {},
   "outputs": [
    {
     "data": {
      "image/png": "[encoded data removed]",
      "text/plain": [
       "<Figure size 432x288 with 1 Axes>"
      ]
     },
     "metadata": {
      "needs_background": "light"
     },
     "output_type": "display_data"
    },
    {
     "name": "stdout",
     "output_type": "stream",
     "text": [
      "The median is 71.0\n",
      "The mean is 72.2\n",
      "The standard deviation is 15.7\n"
     ]
    }
   ],
   "source": [
    "# Method which removes al the values higher than 200\n",
    "def above_200(x):\n",
    "    if (x > 200):\n",
    "        return float('NaN')\n",
    "    else:\n",
    "        return x\n",
    "    \n",
    "# Creates the density plot\n",
    "weight_participants = df_survey['weight'].apply(above_200)\n",
    "sns.distplot(weight_participants, rug=True)\n",
    "plt.title('Weight of participants')\n",
    "plt.axvline(median_size, 0, 100, color='red', label='median') \n",
    "plt.axvline(mean_size, 0, 100, color='blue', label='mean') \n",
    "plt.xlabel('Weight')\n",
    "plt.ylabel('Amount of participants')\n",
    "plt.show()\n",
    "\n",
    "# Variables\n",
    "mean_size = weight_participants.mean()\n",
    "median_size = weight_participants.median()\n",
    "standard = weight_participants.std()\n",
    "\n",
    "# Display the variables\n",
    "print(\"The median is \" + str(round(median_size,1)))\n",
    "print(\"The mean is \" + str(round(mean_size,1)))\n",
    "print(\"The standard deviation is \" + str(round(standard,1)))"
   ]
  },
  {
   "cell_type": "code",
   "execution_count": null,
   "metadata": {},
   "outputs": [],
   "source": [
    "In the figure above, a new graph is displayed without values above the 200. Also, the standard deviation is\n",
    "decreased due to the removed outliers. Therefore, the scatter is less in this graph. \n",
    "In the graph below, the original values are visualized into a box plot to show the outliers in a different way. "
   ]
  },
  {
   "cell_type": "code",
   "execution_count": 38,
   "metadata": {},
   "outputs": [
    {
     "data": {
      "image/png": "[encoded data removed]",
      "text/plain": [
       "<Figure size 432x288 with 1 Axes>"
      ]
     },
     "metadata": {
      "needs_background": "light"
     },
     "output_type": "display_data"
    }
   ],
   "source": [
    "# Creates a box plot\n",
    "sns.boxplot(weight_participants)\n",
    "plt.title('Weight of participants')\n",
    "plt.xlabel('Weight')\n",
    "plt.show()"
   ]
  }
 ],
 "metadata": {
  "kernelspec": {
   "display_name": "Python 3",
   "language": "python",
   "name": "python3"
  },
  "language_info": {
   "codemirror_mode": {
    "name": "ipython",
    "version": 3
   },
   "file_extension": ".py",
   "mimetype": "text/x-python",
   "name": "python",
   "nbconvert_exporter": "python",
   "pygments_lexer": "ipython3",
   "version": "3.7.6"
  }
 },
 "nbformat": 4,
 "nbformat_minor": 4
}
